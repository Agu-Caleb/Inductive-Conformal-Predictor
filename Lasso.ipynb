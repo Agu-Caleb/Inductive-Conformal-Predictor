{
 "cells": [
  {
   "cell_type": "code",
   "execution_count": 1,
   "metadata": {},
   "outputs": [],
   "source": [
    "from sklearn.model_selection import train_test_split\n",
    "from sklearn.datasets import load_diabetes\n",
    "from sklearn.linear_model import Lasso\n",
    "import numpy as np"
   ]
  },
  {
   "cell_type": "markdown",
   "metadata": {},
   "source": [
    "# 1 Importing the load_diabetes data "
   ]
  },
  {
   "cell_type": "code",
   "execution_count": 2,
   "metadata": {},
   "outputs": [
    {
     "name": "stdout",
     "output_type": "stream",
     "text": [
      "{'data': array([[ 0.03807591,  0.05068012,  0.06169621, ..., -0.00259226,\n",
      "         0.01990842, -0.01764613],\n",
      "       [-0.00188202, -0.04464164, -0.05147406, ..., -0.03949338,\n",
      "        -0.06832974, -0.09220405],\n",
      "       [ 0.08529891,  0.05068012,  0.04445121, ..., -0.00259226,\n",
      "         0.00286377, -0.02593034],\n",
      "       ...,\n",
      "       [ 0.04170844,  0.05068012, -0.01590626, ..., -0.01107952,\n",
      "        -0.04687948,  0.01549073],\n",
      "       [-0.04547248, -0.04464164,  0.03906215, ...,  0.02655962,\n",
      "         0.04452837, -0.02593034],\n",
      "       [-0.04547248, -0.04464164, -0.0730303 , ..., -0.03949338,\n",
      "        -0.00421986,  0.00306441]]), 'target': array([151.,  75., 141., 206., 135.,  97., 138.,  63., 110., 310., 101.,\n",
      "        69., 179., 185., 118., 171., 166., 144.,  97., 168.,  68.,  49.,\n",
      "        68., 245., 184., 202., 137.,  85., 131., 283., 129.,  59., 341.,\n",
      "        87.,  65., 102., 265., 276., 252.,  90., 100.,  55.,  61.,  92.,\n",
      "       259.,  53., 190., 142.,  75., 142., 155., 225.,  59., 104., 182.,\n",
      "       128.,  52.,  37., 170., 170.,  61., 144.,  52., 128.,  71., 163.,\n",
      "       150.,  97., 160., 178.,  48., 270., 202., 111.,  85.,  42., 170.,\n",
      "       200., 252., 113., 143.,  51.,  52., 210.,  65., 141.,  55., 134.,\n",
      "        42., 111.,  98., 164.,  48.,  96.,  90., 162., 150., 279.,  92.,\n",
      "        83., 128., 102., 302., 198.,  95.,  53., 134., 144., 232.,  81.,\n",
      "       104.,  59., 246., 297., 258., 229., 275., 281., 179., 200., 200.,\n",
      "       173., 180.,  84., 121., 161.,  99., 109., 115., 268., 274., 158.,\n",
      "       107.,  83., 103., 272.,  85., 280., 336., 281., 118., 317., 235.,\n",
      "        60., 174., 259., 178., 128.,  96., 126., 288.,  88., 292.,  71.,\n",
      "       197., 186.,  25.,  84.,  96., 195.,  53., 217., 172., 131., 214.,\n",
      "        59.,  70., 220., 268., 152.,  47.,  74., 295., 101., 151., 127.,\n",
      "       237., 225.,  81., 151., 107.,  64., 138., 185., 265., 101., 137.,\n",
      "       143., 141.,  79., 292., 178.,  91., 116.,  86., 122.,  72., 129.,\n",
      "       142.,  90., 158.,  39., 196., 222., 277.,  99., 196., 202., 155.,\n",
      "        77., 191.,  70.,  73.,  49.,  65., 263., 248., 296., 214., 185.,\n",
      "        78.,  93., 252., 150.,  77., 208.,  77., 108., 160.,  53., 220.,\n",
      "       154., 259.,  90., 246., 124.,  67.,  72., 257., 262., 275., 177.,\n",
      "        71.,  47., 187., 125.,  78.,  51., 258., 215., 303., 243.,  91.,\n",
      "       150., 310., 153., 346.,  63.,  89.,  50.,  39., 103., 308., 116.,\n",
      "       145.,  74.,  45., 115., 264.,  87., 202., 127., 182., 241.,  66.,\n",
      "        94., 283.,  64., 102., 200., 265.,  94., 230., 181., 156., 233.,\n",
      "        60., 219.,  80.,  68., 332., 248.,  84., 200.,  55.,  85.,  89.,\n",
      "        31., 129.,  83., 275.,  65., 198., 236., 253., 124.,  44., 172.,\n",
      "       114., 142., 109., 180., 144., 163., 147.,  97., 220., 190., 109.,\n",
      "       191., 122., 230., 242., 248., 249., 192., 131., 237.,  78., 135.,\n",
      "       244., 199., 270., 164.,  72.,  96., 306.,  91., 214.,  95., 216.,\n",
      "       263., 178., 113., 200., 139., 139.,  88., 148.,  88., 243.,  71.,\n",
      "        77., 109., 272.,  60.,  54., 221.,  90., 311., 281., 182., 321.,\n",
      "        58., 262., 206., 233., 242., 123., 167.,  63., 197.,  71., 168.,\n",
      "       140., 217., 121., 235., 245.,  40.,  52., 104., 132.,  88.,  69.,\n",
      "       219.,  72., 201., 110.,  51., 277.,  63., 118.,  69., 273., 258.,\n",
      "        43., 198., 242., 232., 175.,  93., 168., 275., 293., 281.,  72.,\n",
      "       140., 189., 181., 209., 136., 261., 113., 131., 174., 257.,  55.,\n",
      "        84.,  42., 146., 212., 233.,  91., 111., 152., 120.,  67., 310.,\n",
      "        94., 183.,  66., 173.,  72.,  49.,  64.,  48., 178., 104., 132.,\n",
      "       220.,  57.]), 'DESCR': 'Diabetes dataset\\n================\\n\\nNotes\\n-----\\n\\nTen baseline variables, age, sex, body mass index, average blood\\npressure, and six blood serum measurements were obtained for each of n =\\n442 diabetes patients, as well as the response of interest, a\\nquantitative measure of disease progression one year after baseline.\\n\\nData Set Characteristics:\\n\\n  :Number of Instances: 442\\n\\n  :Number of Attributes: First 10 columns are numeric predictive values\\n\\n  :Target: Column 11 is a quantitative measure of disease progression one year after baseline\\n\\n  :Attributes:\\n    :Age:\\n    :Sex:\\n    :Body mass index:\\n    :Average blood pressure:\\n    :S1:\\n    :S2:\\n    :S3:\\n    :S4:\\n    :S5:\\n    :S6:\\n\\nNote: Each of these 10 feature variables have been mean centered and scaled by the standard deviation times `n_samples` (i.e. the sum of squares of each column totals 1).\\n\\nSource URL:\\nhttp://www4.stat.ncsu.edu/~boos/var.select/diabetes.html\\n\\nFor more information see:\\nBradley Efron, Trevor Hastie, Iain Johnstone and Robert Tibshirani (2004) \"Least Angle Regression,\" Annals of Statistics (with discussion), 407-499.\\n(http://web.stanford.edu/~hastie/Papers/LARS/LeastAngle_2002.pdf)\\n', 'feature_names': ['age', 'sex', 'bmi', 'bp', 's1', 's2', 's3', 's4', 's5', 's6']}\n"
     ]
    }
   ],
   "source": [
    "processed_diabetes_data = load_diabetes()\n",
    "print (processed_diabetes_data)"
   ]
  },
  {
   "cell_type": "markdown",
   "metadata": {},
   "source": [
    "# 2 Splitting the processed data intp train and test sets"
   ]
  },
  {
   "cell_type": "code",
   "execution_count": 3,
   "metadata": {},
   "outputs": [],
   "source": [
    "X = processed_diabetes_data['data']\n",
    "y = processed_diabetes_data['target']\n",
    "X_train, X_test, y_train, y_test = train_test_split(X,y,random_state=295)"
   ]
  },
  {
   "cell_type": "markdown",
   "metadata": {},
   "source": [
    "# 3 To compute train and test R^2 with Lasso score"
   ]
  },
  {
   "cell_type": "code",
   "execution_count": 4,
   "metadata": {},
   "outputs": [
    {
     "data": {
      "text/plain": [
       "0.38620259533864876"
      ]
     },
     "execution_count": 4,
     "metadata": {},
     "output_type": "execute_result"
    }
   ],
   "source": [
    "lasso = Lasso().fit(X_train,y_train)\n",
    "lasso.score(X_train,y_train)"
   ]
  },
  {
   "cell_type": "code",
   "execution_count": 5,
   "metadata": {},
   "outputs": [
    {
     "data": {
      "text/plain": [
       "0.3135534507150195"
      ]
     },
     "execution_count": 5,
     "metadata": {},
     "output_type": "execute_result"
    }
   ],
   "source": [
    "lasso.score(X_test,y_test)"
   ]
  },
  {
   "cell_type": "markdown",
   "metadata": {},
   "source": [
    "Getting the features and number of features"
   ]
  },
  {
   "cell_type": "code",
   "execution_count": 6,
   "metadata": {},
   "outputs": [],
   "source": [
    "features = dict(zip(processed_diabetes_data['feature_names'], lasso.coef_ != 0))"
   ]
  },
  {
   "cell_type": "code",
   "execution_count": 7,
   "metadata": {},
   "outputs": [
    {
     "data": {
      "text/plain": [
       "{'age': False,\n",
       " 'sex': False,\n",
       " 'bmi': True,\n",
       " 'bp': False,\n",
       " 's1': False,\n",
       " 's2': False,\n",
       " 's3': False,\n",
       " 's4': False,\n",
       " 's5': True,\n",
       " 's6': False}"
      ]
     },
     "execution_count": 7,
     "metadata": {},
     "output_type": "execute_result"
    }
   ],
   "source": [
    "features"
   ]
  },
  {
   "cell_type": "code",
   "execution_count": 8,
   "metadata": {},
   "outputs": [
    {
     "data": {
      "text/plain": [
       "2"
      ]
     },
     "execution_count": 8,
     "metadata": {},
     "output_type": "execute_result"
    }
   ],
   "source": [
    "np.sum(lasso.coef_ != 0)"
   ]
  },
  {
   "cell_type": "markdown",
   "metadata": {},
   "source": [
    "The model uses 2 features for which coef_ is not equal to zero, the features are\n",
    "1. bmi\n",
    "2. s5"
   ]
  },
  {
   "cell_type": "markdown",
   "metadata": {},
   "source": [
    "# 4 Importing the original diabetes data set"
   ]
  },
  {
   "cell_type": "code",
   "execution_count": 9,
   "metadata": {},
   "outputs": [],
   "source": [
    "X_raw = np.genfromtxt(\"Desktop\\MSC\\CS5920J-Machine learning\\Assignment 2\\diabetes.data\",delimiter=\"\\t\",usecols=np.arange(10),skip_header=1)\n",
    "y_raw = np.genfromtxt(\"Desktop\\MSC\\CS5920J-Machine learning\\Assignment 2\\diabetes.data\",delimiter=\"\\t\",usecols = 10, dtype=int,skip_header=1)"
   ]
  },
  {
   "cell_type": "code",
   "execution_count": 10,
   "metadata": {},
   "outputs": [
    {
     "data": {
      "text/plain": [
       "array([[59.    ,  2.    , 32.1   , ...,  4.    ,  4.8598, 87.    ],\n",
       "       [48.    ,  1.    , 21.6   , ...,  3.    ,  3.8918, 69.    ],\n",
       "       [72.    ,  2.    , 30.5   , ...,  4.    ,  4.6728, 85.    ],\n",
       "       ...,\n",
       "       [60.    ,  2.    , 24.9   , ...,  3.77  ,  4.1271, 95.    ],\n",
       "       [36.    ,  1.    , 30.    , ...,  4.79  ,  5.1299, 85.    ],\n",
       "       [36.    ,  1.    , 19.6   , ...,  3.    ,  4.5951, 92.    ]])"
      ]
     },
     "execution_count": 10,
     "metadata": {},
     "output_type": "execute_result"
    }
   ],
   "source": [
    "X_raw"
   ]
  },
  {
   "cell_type": "code",
   "execution_count": 11,
   "metadata": {},
   "outputs": [
    {
     "data": {
      "text/plain": [
       "array([151,  75, 141, 206, 135,  97, 138,  63, 110, 310, 101,  69, 179,\n",
       "       185, 118, 171, 166, 144,  97, 168,  68,  49,  68, 245, 184, 202,\n",
       "       137,  85, 131, 283, 129,  59, 341,  87,  65, 102, 265, 276, 252,\n",
       "        90, 100,  55,  61,  92, 259,  53, 190, 142,  75, 142, 155, 225,\n",
       "        59, 104, 182, 128,  52,  37, 170, 170,  61, 144,  52, 128,  71,\n",
       "       163, 150,  97, 160, 178,  48, 270, 202, 111,  85,  42, 170, 200,\n",
       "       252, 113, 143,  51,  52, 210,  65, 141,  55, 134,  42, 111,  98,\n",
       "       164,  48,  96,  90, 162, 150, 279,  92,  83, 128, 102, 302, 198,\n",
       "        95,  53, 134, 144, 232,  81, 104,  59, 246, 297, 258, 229, 275,\n",
       "       281, 179, 200, 200, 173, 180,  84, 121, 161,  99, 109, 115, 268,\n",
       "       274, 158, 107,  83, 103, 272,  85, 280, 336, 281, 118, 317, 235,\n",
       "        60, 174, 259, 178, 128,  96, 126, 288,  88, 292,  71, 197, 186,\n",
       "        25,  84,  96, 195,  53, 217, 172, 131, 214,  59,  70, 220, 268,\n",
       "       152,  47,  74, 295, 101, 151, 127, 237, 225,  81, 151, 107,  64,\n",
       "       138, 185, 265, 101, 137, 143, 141,  79, 292, 178,  91, 116,  86,\n",
       "       122,  72, 129, 142,  90, 158,  39, 196, 222, 277,  99, 196, 202,\n",
       "       155,  77, 191,  70,  73,  49,  65, 263, 248, 296, 214, 185,  78,\n",
       "        93, 252, 150,  77, 208,  77, 108, 160,  53, 220, 154, 259,  90,\n",
       "       246, 124,  67,  72, 257, 262, 275, 177,  71,  47, 187, 125,  78,\n",
       "        51, 258, 215, 303, 243,  91, 150, 310, 153, 346,  63,  89,  50,\n",
       "        39, 103, 308, 116, 145,  74,  45, 115, 264,  87, 202, 127, 182,\n",
       "       241,  66,  94, 283,  64, 102, 200, 265,  94, 230, 181, 156, 233,\n",
       "        60, 219,  80,  68, 332, 248,  84, 200,  55,  85,  89,  31, 129,\n",
       "        83, 275,  65, 198, 236, 253, 124,  44, 172, 114, 142, 109, 180,\n",
       "       144, 163, 147,  97, 220, 190, 109, 191, 122, 230, 242, 248, 249,\n",
       "       192, 131, 237,  78, 135, 244, 199, 270, 164,  72,  96, 306,  91,\n",
       "       214,  95, 216, 263, 178, 113, 200, 139, 139,  88, 148,  88, 243,\n",
       "        71,  77, 109, 272,  60,  54, 221,  90, 311, 281, 182, 321,  58,\n",
       "       262, 206, 233, 242, 123, 167,  63, 197,  71, 168, 140, 217, 121,\n",
       "       235, 245,  40,  52, 104, 132,  88,  69, 219,  72, 201, 110,  51,\n",
       "       277,  63, 118,  69, 273, 258,  43, 198, 242, 232, 175,  93, 168,\n",
       "       275, 293, 281,  72, 140, 189, 181, 209, 136, 261, 113, 131, 174,\n",
       "       257,  55,  84,  42, 146, 212, 233,  91, 111, 152, 120,  67, 310,\n",
       "        94, 183,  66, 173,  72,  49,  64,  48, 178, 104, 132, 220,  57])"
      ]
     },
     "execution_count": 11,
     "metadata": {},
     "output_type": "execute_result"
    }
   ],
   "source": [
    "y_raw"
   ]
  },
  {
   "cell_type": "markdown",
   "metadata": {},
   "source": [
    "# 5 Splitting the raw diabetes data"
   ]
  },
  {
   "cell_type": "code",
   "execution_count": 12,
   "metadata": {},
   "outputs": [],
   "source": [
    "X_train_raw, X_test_raw, y_train_raw, y_test_raw = train_test_split(X_raw,y_raw,random_state=295)"
   ]
  },
  {
   "cell_type": "markdown",
   "metadata": {},
   "source": [
    "To compute train and test R^2 for original diabetes data with Lasso score"
   ]
  },
  {
   "cell_type": "code",
   "execution_count": 13,
   "metadata": {},
   "outputs": [
    {
     "data": {
      "text/plain": [
       "0.5365825063419298"
      ]
     },
     "execution_count": 13,
     "metadata": {},
     "output_type": "execute_result"
    }
   ],
   "source": [
    "lasso_raw = Lasso().fit(X_train_raw,y_train_raw)\n",
    "lasso_raw.score(X_train_raw,y_train_raw)"
   ]
  },
  {
   "cell_type": "code",
   "execution_count": 14,
   "metadata": {},
   "outputs": [
    {
     "data": {
      "text/plain": [
       "0.41738603558907017"
      ]
     },
     "execution_count": 14,
     "metadata": {},
     "output_type": "execute_result"
    }
   ],
   "source": [
    "lasso_raw.score(X_test_raw,y_test_raw)"
   ]
  },
  {
   "cell_type": "markdown",
   "metadata": {},
   "source": [
    "# 6 Getting the features and number of features for raw diabetes data"
   ]
  },
  {
   "cell_type": "code",
   "execution_count": 15,
   "metadata": {},
   "outputs": [
    {
     "data": {
      "text/plain": [
       "10"
      ]
     },
     "execution_count": 15,
     "metadata": {},
     "output_type": "execute_result"
    }
   ],
   "source": [
    "np.sum(lasso_raw.coef_ != 0)"
   ]
  },
  {
   "cell_type": "code",
   "execution_count": 16,
   "metadata": {},
   "outputs": [],
   "source": [
    "features_raw = dict(zip(processed_diabetes_data['feature_names'], lasso_raw.coef_ != 0))"
   ]
  },
  {
   "cell_type": "code",
   "execution_count": 17,
   "metadata": {},
   "outputs": [
    {
     "data": {
      "text/plain": [
       "{'age': True,\n",
       " 'sex': True,\n",
       " 'bmi': True,\n",
       " 'bp': True,\n",
       " 's1': True,\n",
       " 's2': True,\n",
       " 's3': True,\n",
       " 's4': True,\n",
       " 's5': True,\n",
       " 's6': True}"
      ]
     },
     "execution_count": 17,
     "metadata": {},
     "output_type": "execute_result"
    }
   ],
   "source": [
    "features_raw"
   ]
  },
  {
   "cell_type": "markdown",
   "metadata": {},
   "source": [
    "The model on the raw diabetes dataset uses 10 features for which coef_ is not equal to zero, they are listed below:\n",
    "\n",
    "1. age\n",
    "2. sex\n",
    "3. bmi\n",
    "4. bp\n",
    "5. s1\n",
    "6. s2\n",
    "7. s3\n",
    "8. s4\n",
    "9. s5\n",
    "10. s6"
   ]
  },
  {
   "cell_type": "markdown",
   "metadata": {},
   "source": [
    "# To summarize first section"
   ]
  },
  {
   "cell_type": "markdown",
   "metadata": {},
   "source": [
    "The training R^2 = 0.5365825063419298 and test R^2 = 0.41738603558907017 of the raw diabetes data is higher than the training R^2 =0.38620259533864876 and test R^2 = 0.3135534507150195 of the load_diabetes data because it the raw diabetes data uses more features than the load_diabetes."
   ]
  },
  {
   "cell_type": "markdown",
   "metadata": {},
   "source": [
    "# 7. Using StandardScaler to process the raw data"
   ]
  },
  {
   "cell_type": "code",
   "execution_count": 18,
   "metadata": {},
   "outputs": [],
   "source": [
    "from sklearn.preprocessing import StandardScaler"
   ]
  },
  {
   "cell_type": "code",
   "execution_count": 19,
   "metadata": {},
   "outputs": [
    {
     "data": {
      "text/plain": [
       "StandardScaler(copy=True, with_mean=True, with_std=True)"
      ]
     },
     "execution_count": 19,
     "metadata": {},
     "output_type": "execute_result"
    }
   ],
   "source": [
    "scaler = StandardScaler()\n",
    "scaler.fit(X_train_raw)"
   ]
  },
  {
   "cell_type": "code",
   "execution_count": 20,
   "metadata": {},
   "outputs": [],
   "source": [
    "processed_X_train = scaler.transform(X_train_raw)\n",
    "processed_X_test = scaler.transform(X_test_raw)"
   ]
  },
  {
   "cell_type": "code",
   "execution_count": 21,
   "metadata": {},
   "outputs": [
    {
     "data": {
      "text/plain": [
       "0.5385916123719636"
      ]
     },
     "execution_count": 21,
     "metadata": {},
     "output_type": "execute_result"
    }
   ],
   "source": [
    "processed_lasso = Lasso().fit(processed_X_train,y_train_raw)\n",
    "processed_lasso.score(processed_X_train,y_train_raw)"
   ]
  },
  {
   "cell_type": "code",
   "execution_count": 22,
   "metadata": {},
   "outputs": [
    {
     "data": {
      "text/plain": [
       "0.4206927175381302"
      ]
     },
     "execution_count": 22,
     "metadata": {},
     "output_type": "execute_result"
    }
   ],
   "source": [
    "processed_lasso.score(processed_X_test,y_test_raw)"
   ]
  },
  {
   "cell_type": "markdown",
   "metadata": {},
   "source": [
    "# 8. Getting the features and number of features for Scaled diabetes data"
   ]
  },
  {
   "cell_type": "code",
   "execution_count": 23,
   "metadata": {},
   "outputs": [
    {
     "data": {
      "text/plain": [
       "8"
      ]
     },
     "execution_count": 23,
     "metadata": {},
     "output_type": "execute_result"
    }
   ],
   "source": [
    "np.sum(processed_lasso.coef_ != 0)"
   ]
  },
  {
   "cell_type": "code",
   "execution_count": 24,
   "metadata": {},
   "outputs": [],
   "source": [
    "features_raw = dict(zip(processed_diabetes_data['feature_names'], processed_lasso.coef_ != 0))"
   ]
  },
  {
   "cell_type": "code",
   "execution_count": 25,
   "metadata": {},
   "outputs": [
    {
     "data": {
      "text/plain": [
       "{'age': False,\n",
       " 'sex': True,\n",
       " 'bmi': True,\n",
       " 'bp': True,\n",
       " 's1': True,\n",
       " 's2': False,\n",
       " 's3': True,\n",
       " 's4': True,\n",
       " 's5': True,\n",
       " 's6': True}"
      ]
     },
     "execution_count": 25,
     "metadata": {},
     "output_type": "execute_result"
    }
   ],
   "source": [
    "features_raw"
   ]
  },
  {
   "cell_type": "markdown",
   "metadata": {},
   "source": [
    "The model on the Scaled diabetes dataset uses 8 features for which coef_ is not equal to zero, they are listed below:\n",
    "\n",
    "1. sex\n",
    "2. bmi\n",
    "3. bp\n",
    "4. s1\n",
    "5. s3\n",
    "6. s4\n",
    "7. s5\n",
    "8. s6"
   ]
  },
  {
   "cell_type": "markdown",
   "metadata": {},
   "source": [
    "# in summary"
   ]
  },
  {
   "cell_type": "markdown",
   "metadata": {},
   "source": [
    "The training R^2 = 0.5385916123719636 and test R^2 = 0.4206927175381302 of the scaled diabetes data is closer to (6) the raw diabetes data because the data at (3) uses normalizer and standard caler was used in these, also comparing the number of features used for the coefficient of the scaled data which is 8, it was always going to be closer to the raw data with a value of 10."
   ]
  },
  {
   "cell_type": "markdown",
   "metadata": {},
   "source": [
    "# 9 Varying the parameter alpha in the Lasso and plotting the test R^2 vs the number of features used\n"
   ]
  },
  {
   "cell_type": "code",
   "execution_count": 26,
   "metadata": {},
   "outputs": [],
   "source": [
    "def lasso(alphas):\n",
    "    \n",
    "    lasso = lasso = Lasso(alphas)\n",
    "    lasso.fit(processed_X_train, y_train_raw)\n",
    "    scores = lasso.score(processed_X_test,y_test_raw)\n",
    "    cof= np.sum(lasso.coef_ !=0)\n",
    "    return scores, cof"
   ]
  },
  {
   "cell_type": "code",
   "execution_count": 27,
   "metadata": {},
   "outputs": [
    {
     "data": {
      "text/plain": [
       "(0.42192757352944504, 10)"
      ]
     },
     "execution_count": 27,
     "metadata": {},
     "output_type": "execute_result"
    }
   ],
   "source": [
    "alpha1=lasso([0.1])\n",
    "alpha1"
   ]
  },
  {
   "cell_type": "code",
   "execution_count": 28,
   "metadata": {},
   "outputs": [
    {
     "data": {
      "text/plain": [
       "(0.4206927175381302, 8)"
      ]
     },
     "execution_count": 28,
     "metadata": {},
     "output_type": "execute_result"
    }
   ],
   "source": [
    "alpha2=lasso([1])\n",
    "alpha2"
   ]
  },
  {
   "cell_type": "code",
   "execution_count": 29,
   "metadata": {},
   "outputs": [
    {
     "data": {
      "text/plain": [
       "(0.40418984269451175, 6)"
      ]
     },
     "execution_count": 29,
     "metadata": {},
     "output_type": "execute_result"
    }
   ],
   "source": [
    "alpha3=lasso([5])\n",
    "alpha3"
   ]
  },
  {
   "cell_type": "code",
   "execution_count": 30,
   "metadata": {},
   "outputs": [
    {
     "data": {
      "text/plain": [
       "(0.4145201979520702, 7)"
      ]
     },
     "execution_count": 30,
     "metadata": {},
     "output_type": "execute_result"
    }
   ],
   "source": [
    "alpha4=lasso([3])\n",
    "alpha4"
   ]
  },
  {
   "cell_type": "code",
   "execution_count": 31,
   "metadata": {},
   "outputs": [
    {
     "data": {
      "text/plain": [
       "(0.3877008841826438, 5)"
      ]
     },
     "execution_count": 31,
     "metadata": {},
     "output_type": "execute_result"
    }
   ],
   "source": [
    "alpha5=lasso([10])\n",
    "alpha5"
   ]
  },
  {
   "cell_type": "markdown",
   "metadata": {},
   "source": [
    "plotting the graph"
   ]
  },
  {
   "cell_type": "code",
   "execution_count": 32,
   "metadata": {},
   "outputs": [],
   "source": [
    "varying_alphas =[alpha1[0],alpha2[0],alpha3[0],alpha4[0],alpha5[0]]"
   ]
  },
  {
   "cell_type": "code",
   "execution_count": 33,
   "metadata": {},
   "outputs": [],
   "source": [
    "coefficients= [alpha1[1],alpha2[1],alpha3[1],alpha4[1],alpha5[1]]"
   ]
  },
  {
   "cell_type": "code",
   "execution_count": 34,
   "metadata": {},
   "outputs": [
    {
     "data": {
      "text/plain": [
       "<matplotlib.legend.Legend at 0x2c5389992e8>"
      ]
     },
     "execution_count": 34,
     "metadata": {},
     "output_type": "execute_result"
    }
   ],
   "source": [
    "import matplotlib.pyplot as plt\n",
    "plt.plot(coefficients,varying_alphas,\"v--\",label=\"R Squared\")\n",
    "plt.xlabel(\"Number of Features\")\n",
    "plt.ylabel(\"Test R^2\")\n",
    "plt.legend()"
   ]
  },
  {
   "cell_type": "markdown",
   "metadata": {},
   "source": [
    "I prefer the point (8, 0.42) correspoding to alpha = 1 for the lasso, it seems like the point where the graph finally got some form of stability or pattern"
   ]
  },
  {
   "cell_type": "markdown",
   "metadata": {},
   "source": [
    "# 10 cross-validation on the training set."
   ]
  },
  {
   "cell_type": "markdown",
   "metadata": {},
   "source": [
    "Performing 10 fold cross validation "
   ]
  },
  {
   "cell_type": "code",
   "execution_count": 35,
   "metadata": {},
   "outputs": [
    {
     "data": {
      "text/plain": [
       "0.4145201979520702"
      ]
     },
     "execution_count": 35,
     "metadata": {},
     "output_type": "execute_result"
    }
   ],
   "source": [
    "from sklearn.model_selection import GridSearchCV\n",
    "chosen_alphas = {'alpha': [0.1, 1, 5, 3, 10]}\n",
    "grid_search = GridSearchCV(Lasso(), chosen_alphas, cv=10)\n",
    "grid_search.fit(processed_X_train, y_train_raw)\n",
    "grid_search.score(processed_X_test, y_test_raw)"
   ]
  },
  {
   "cell_type": "code",
   "execution_count": 36,
   "metadata": {},
   "outputs": [
    {
     "name": "stdout",
     "output_type": "stream",
     "text": [
      "{'alpha': 3}\n",
      "0.47586662663995877\n"
     ]
    }
   ],
   "source": [
    "print(grid_search.best_params_)\n",
    "print(grid_search.best_score_)"
   ]
  },
  {
   "cell_type": "code",
   "execution_count": 37,
   "metadata": {},
   "outputs": [
    {
     "data": {
      "text/plain": [
       "0.5284326612822037"
      ]
     },
     "execution_count": 37,
     "metadata": {},
     "output_type": "execute_result"
    }
   ],
   "source": [
    "lasso_crossval = Lasso(alpha=3).fit(processed_X_train,y_train_raw)\n",
    "lasso_crossval.score(processed_X_train,y_train_raw)"
   ]
  },
  {
   "cell_type": "code",
   "execution_count": 38,
   "metadata": {},
   "outputs": [
    {
     "data": {
      "text/plain": [
       "0.4145201979520702"
      ]
     },
     "execution_count": 38,
     "metadata": {},
     "output_type": "execute_result"
    }
   ],
   "source": [
    "lasso_crossval.score(processed_X_test,y_test_raw)"
   ]
  },
  {
   "cell_type": "code",
   "execution_count": 39,
   "metadata": {},
   "outputs": [
    {
     "data": {
      "text/plain": [
       "7"
      ]
     },
     "execution_count": 39,
     "metadata": {},
     "output_type": "execute_result"
    }
   ],
   "source": [
    "np.sum(lasso_crossval.coef_!=0)"
   ]
  },
  {
   "cell_type": "markdown",
   "metadata": {},
   "source": [
    "# In Summary\n"
   ]
  },
  {
   "cell_type": "markdown",
   "metadata": {},
   "source": [
    "Using for 10 fold cross validation, the best alpha is 3\n",
    "When the alpha is 3, the Training R^2 = 0.5284326612822037 and the Test R^2 = 0.4145201979520702\n",
    "The number of features used in the model is 7(seven)"
   ]
  },
  {
   "cell_type": "markdown",
   "metadata": {},
   "source": [
    "# 11. Inductive Conformal Predictor"
   ]
  },
  {
   "cell_type": "code",
   "execution_count": 40,
   "metadata": {},
   "outputs": [],
   "source": [
    "X_train_conformal, X_calibration_set, y_train_conformal, y_calibration_set = train_test_split(X_raw,y_raw,random_state=295,test_size=99)"
   ]
  },
  {
   "cell_type": "code",
   "execution_count": 41,
   "metadata": {},
   "outputs": [
    {
     "data": {
      "text/plain": [
       "array([[ 60.    ,   2.    ,  32.1   , ...,   4.    ,   4.4773,  94.    ],\n",
       "       [ 58.    ,   1.    ,  22.8   , ...,   4.    ,   4.9836, 115.    ],\n",
       "       [ 55.    ,   1.    ,  32.9   , ...,   4.    ,   4.4308,  89.    ],\n",
       "       ...,\n",
       "       [ 63.    ,   2.    ,  25.5   , ...,   5.    ,   5.9506,  87.    ],\n",
       "       [ 49.    ,   1.    ,  20.3   , ...,   3.    ,   4.6052,  93.    ],\n",
       "       [ 41.    ,   1.    ,  20.2   , ...,   3.    ,   4.2485,  89.    ]])"
      ]
     },
     "execution_count": 41,
     "metadata": {},
     "output_type": "execute_result"
    }
   ],
   "source": [
    "X_train_conformal"
   ]
  },
  {
   "cell_type": "markdown",
   "metadata": {},
   "source": [
    "b) standard scaling"
   ]
  },
  {
   "cell_type": "code",
   "execution_count": 42,
   "metadata": {},
   "outputs": [],
   "source": [
    "scalerconformal = StandardScaler()\n",
    "scalerconformal.fit(X_train_conformal)\n",
    "X_train_conformal_scaled = scalerconformal.transform(X_train_conformal)\n",
    "X_test_scaled = scalerconformal.transform(X_test_raw)\n",
    "X_calibration_set_scaled = scalerconformal.transform(X_calibration_set)"
   ]
  },
  {
   "cell_type": "code",
   "execution_count": 43,
   "metadata": {},
   "outputs": [
    {
     "data": {
      "text/plain": [
       "array([[ 0.86888764,  1.05701653, -0.31764873, ..., -0.22535482,\n",
       "        -0.99643223,  0.31358668],\n",
       "       [ 0.03788306, -0.946059  , -0.07275934, ..., -0.82179194,\n",
       "        -0.18701702, -0.30255212],\n",
       "       [ 0.56670415, -0.946059  , -0.13954736, ..., -0.04719827,\n",
       "         0.93064499,  0.31358668],\n",
       "       ...,\n",
       "       [ 1.4732546 ,  1.05701653, -0.3399114 , ..., -0.04719827,\n",
       "        -1.49410007, -0.39057195],\n",
       "       [-1.47303435,  1.05701653, -1.8315104 , ..., -0.04719827,\n",
       "        -0.27161471, -1.1827504 ],\n",
       "       [ 0.1889748 , -0.946059  , -0.25086072, ...,  0.72739539,\n",
       "         0.5024056 , -0.12651246]])"
      ]
     },
     "execution_count": 43,
     "metadata": {},
     "output_type": "execute_result"
    }
   ],
   "source": [
    "X_test_scaled"
   ]
  },
  {
   "cell_type": "markdown",
   "metadata": {},
   "source": [
    "c) nonconformity measure = |truelabel - prediction|"
   ]
  },
  {
   "cell_type": "code",
   "execution_count": 44,
   "metadata": {},
   "outputs": [
    {
     "data": {
      "text/plain": [
       "0.5327268369010514"
      ]
     },
     "execution_count": 44,
     "metadata": {},
     "output_type": "execute_result"
    }
   ],
   "source": [
    "lassoconformal = Lasso().fit(X_train_conformal_scaled,y_train_conformal)\n",
    "true_label = lassoconformal.predict(X_train_conformal)\n",
    "prediction = lassoconformal.predict(X_calibration_set_scaled)\n",
    "lassoconformal.score(X_train_conformal_scaled,y_train_conformal)"
   ]
  },
  {
   "cell_type": "code",
   "execution_count": 45,
   "metadata": {},
   "outputs": [
    {
     "data": {
      "text/plain": [
       "array([123.80910691, 138.94485414, 148.77809504, 158.74104021,\n",
       "       126.56981827,  93.64400885, 273.61303532, 147.20690302,\n",
       "       225.62765374,  69.23914972, 221.86209744,  78.68569344,\n",
       "       200.41014118, 162.38583124, 241.40280993, 149.22993367,\n",
       "       231.07425415, 259.30149226, 155.26582006, 157.27901635,\n",
       "       172.13185638, 156.1570721 , 190.41429134, 123.01181416,\n",
       "       136.93976095,  55.59063669,  87.39596123,  54.01913144,\n",
       "       200.74681371, 122.78606572, 179.75827297, 150.21738711,\n",
       "       154.14026758, 130.33310824, 100.54465166, 233.15526901,\n",
       "       142.18384533, 103.09627561,  56.3835797 , 184.72113337,\n",
       "       143.52245262, 106.14122452, 227.71886805, 174.68712927,\n",
       "       176.903333  , 133.37277408, 150.22095319, 225.26290451,\n",
       "       217.77015476,  51.85542431, 172.48691297,  67.91786764,\n",
       "       119.241221  , 147.68105166, 160.23579568, 185.27184799,\n",
       "        99.06109478, 188.10264602,  75.98843763, 232.73952735,\n",
       "       121.78571647, 136.8247002 ,  91.44738574, 112.2699357 ,\n",
       "       122.16704216, 206.19616463, 140.00245731, 236.44109271,\n",
       "        89.95526442, 156.57789911, 174.03929316, 182.39082867,\n",
       "       148.94488592, 148.78062765, 151.95246088, 219.80940543,\n",
       "       172.1995123 , 142.48431658, 117.13431468,  96.80827715,\n",
       "        70.17106265, 295.21921766, 146.1641914 , 148.50114033,\n",
       "       115.04564108, 225.89083586,  83.41454323, 105.05978206,\n",
       "        73.58846796, 245.72805778, 258.85196044, 161.58651144,\n",
       "       246.48160624, 133.94038535, 157.19549066, 189.86977857,\n",
       "       185.00702169, 167.50129687,  69.51295322])"
      ]
     },
     "execution_count": 45,
     "metadata": {},
     "output_type": "execute_result"
    }
   ],
   "source": [
    "prediction"
   ]
  },
  {
   "cell_type": "code",
   "execution_count": 46,
   "metadata": {},
   "outputs": [],
   "source": [
    "m=99\n",
    "interval5  = (1 - 0.05) *(m +1)"
   ]
  },
  {
   "cell_type": "code",
   "execution_count": 47,
   "metadata": {},
   "outputs": [],
   "source": [
    "interval20=(1-0.2) *(m +1)"
   ]
  },
  {
   "cell_type": "code",
   "execution_count": 48,
   "metadata": {},
   "outputs": [],
   "source": [
    "alphas = abs(np.subtract(y_calibration_set ,prediction))\n",
    "alphas = sorted(alphas)"
   ]
  },
  {
   "cell_type": "code",
   "execution_count": 49,
   "metadata": {},
   "outputs": [
    {
     "data": {
      "text/plain": [
       "[0.1570721028676587,\n",
       " 0.2629045124132574,\n",
       " 0.5906366894597284,\n",
       " 0.6130353214851425,\n",
       " 1.0551140776330783,\n",
       " 1.6856934397863768,\n",
       " 2.76085027843979,\n",
       " 3.5854567671755007,\n",
       " 3.855424313598249,\n",
       " 4.430181732765476,\n",
       " 4.9257458505906015,\n",
       " 8.1908930916656,\n",
       " 9.383579696052777,\n",
       " 10.134314682419799,\n",
       " 11.681051660060916,\n",
       " 11.869778574832196,\n",
       " 12.061094781916253,\n",
       " 12.414291335351578,\n",
       " 12.544651663540435,\n",
       " 12.824700204362273,\n",
       " 12.828937351664962,\n",
       " 14.666891764001377,\n",
       " 15.096275607797779,\n",
       " 15.137902561366388,\n",
       " 15.22993367012441,\n",
       " 15.917867640686467,\n",
       " 16.14122451855542,\n",
       " 16.501296871964428,\n",
       " 17.512953215377337,\n",
       " 17.627653735523893,\n",
       " 17.980868557296276,\n",
       " 19.609171328895712,\n",
       " 20.109164139003497,\n",
       " 21.2139342762554,\n",
       " 23.21937234889026,\n",
       " 24.265820064268212,\n",
       " 24.271847987635965,\n",
       " 24.402809929485215,\n",
       " 25.84473099313834,\n",
       " 26.447385742576685,\n",
       " 28.518393757468345,\n",
       " 28.52245261740393,\n",
       " 30.728057778675833,\n",
       " 30.859732417549992,\n",
       " 31.039293161902492,\n",
       " 34.41348855634584,\n",
       " 38.644008853181134,\n",
       " 39.26047265314307,\n",
       " 39.83295783963331,\n",
       " 40.75877899926638,\n",
       " 40.95526442068635,\n",
       " 42.80827715365024,\n",
       " 43.68712926706746,\n",
       " 43.6985077416378,\n",
       " 44.55890728697577,\n",
       " 44.770154760274124,\n",
       " 45.74104020785532,\n",
       " 49.14803956007563,\n",
       " 49.16419140245148,\n",
       " 49.74681370806161,\n",
       " 50.06023904715383,\n",
       " 50.90333299800557,\n",
       " 50.944854140817114,\n",
       " 51.78261289160554,\n",
       " 52.281131949248106,\n",
       " 53.19549065582734,\n",
       " 53.219217661814355,\n",
       " 53.77809503559217,\n",
       " 55.21428353419218,\n",
       " 56.577899106757656,\n",
       " 57.00245730597504,\n",
       " 57.515683419566926,\n",
       " 58.01156237146279,\n",
       " 59.0118141615777,\n",
       " 61.80383537015197,\n",
       " 62.79309697760203,\n",
       " 63.41014117809843,\n",
       " 64.8094054271973,\n",
       " 79.7209836470094,\n",
       " 82.24172702903181,\n",
       " 84.00702168627453,\n",
       " 84.37277407543542,\n",
       " 84.41153203715308,\n",
       " 84.95435891724406,\n",
       " 85.0596146477481,\n",
       " 86.73006430071817,\n",
       " 87.4869129745885,\n",
       " 93.60403876579898,\n",
       " 93.72113336902285,\n",
       " 95.94021793917167,\n",
       " 96.952460876868,\n",
       " 102.23579568160781,\n",
       " 102.61416876186797,\n",
       " 104.10264602047246,\n",
       " 106.19951230035454,\n",
       " 117.18384533200998,\n",
       " 125.77904681442905,\n",
       " 138.86814361785613,\n",
       " 153.4988596730149]"
      ]
     },
     "execution_count": 49,
     "metadata": {},
     "output_type": "execute_result"
    }
   ],
   "source": [
    "alphas\n"
   ]
  },
  {
   "cell_type": "code",
   "execution_count": 50,
   "metadata": {},
   "outputs": [],
   "source": [
    "conformity_at_5 = alphas[int(interval5) -1 ]"
   ]
  },
  {
   "cell_type": "code",
   "execution_count": 51,
   "metadata": {},
   "outputs": [],
   "source": [
    "conformity_at_20 = alphas[int(interval20) -1 ]"
   ]
  },
  {
   "cell_type": "code",
   "execution_count": 52,
   "metadata": {},
   "outputs": [
    {
     "data": {
      "text/plain": [
       "106.19951230035454"
      ]
     },
     "execution_count": 52,
     "metadata": {},
     "output_type": "execute_result"
    }
   ],
   "source": [
    "conformity_at_5"
   ]
  },
  {
   "cell_type": "code",
   "execution_count": 53,
   "metadata": {},
   "outputs": [
    {
     "data": {
      "text/plain": [
       "82.24172702903181"
      ]
     },
     "execution_count": 53,
     "metadata": {},
     "output_type": "execute_result"
    }
   ],
   "source": [
    "conformity_at_20"
   ]
  },
  {
   "cell_type": "code",
   "execution_count": 54,
   "metadata": {},
   "outputs": [],
   "source": [
    "length_prediction_interval_5 = (conformity_at_5 * 2)\n",
    "length_prediction_interval_20 = (conformity_at_20 * 2)"
   ]
  },
  {
   "cell_type": "code",
   "execution_count": 55,
   "metadata": {},
   "outputs": [
    {
     "name": "stdout",
     "output_type": "stream",
     "text": [
      "Length of prediction interval for 5%: 212.39902460070908\n",
      "Length of prediction interval for 20%: 164.48345405806361\n"
     ]
    }
   ],
   "source": [
    "print (\"Length of prediction interval for 5%:\",length_prediction_interval_5)\n",
    "print (\"Length of prediction interval for 20%:\",length_prediction_interval_20)"
   ]
  },
  {
   "cell_type": "markdown",
   "metadata": {},
   "source": [
    "# test error rates at significance levels 5% and 20% "
   ]
  },
  {
   "cell_type": "code",
   "execution_count": 56,
   "metadata": {},
   "outputs": [],
   "source": [
    "p_5 = true_label + conformity_at_5\n",
    "n_5 = true_label - conformity_at_5"
   ]
  },
  {
   "cell_type": "code",
   "execution_count": 57,
   "metadata": {},
   "outputs": [],
   "source": [
    "p_20 = true_label + conformity_at_20\n",
    "n_20 = true_label - conformity_at_20"
   ]
  },
  {
   "cell_type": "code",
   "execution_count": 58,
   "metadata": {},
   "outputs": [
    {
     "data": {
      "text/plain": [
       "array([1144.68474663,  948.33592179, 1535.56684111,  740.91296406,\n",
       "        668.02274382, 1286.83604504, 1446.94778214, 1169.99867932,\n",
       "        759.22142292,  780.65683514,  748.2365304 , 1346.13281496,\n",
       "       1151.41373057,  754.72384949, 1571.46816646, 1251.26139798,\n",
       "        832.53349192, 1155.35974055,  917.12169519, 1141.92545187,\n",
       "       1720.1138165 ,  784.61557314, 1432.54897423, 1690.13474316,\n",
       "        533.23043495, 1450.46328889,  681.90791531, 1616.50021301,\n",
       "        785.37486226,  974.48528213, 1048.46050424, 1533.95915648,\n",
       "        686.53707622,  872.68730827, 1101.56199662,  665.61762933,\n",
       "       1121.16298139,  395.76753025, 1684.51955261,  747.18882804,\n",
       "        753.62516936,  995.03352256,  873.70046899, 1683.00732577,\n",
       "        920.70020443,  207.47912719,  775.55253022, 1133.47680583,\n",
       "       1246.09222797, 1993.1138173 , 1103.95661858,  968.91809494,\n",
       "        659.44447626,  907.56142307, 1161.54590849,  925.70132414,\n",
       "       1255.49486035, 1315.51651399, 1277.58873298, 1257.87121479,\n",
       "        557.05226153,  986.19399903,  658.53702829, 1041.96424334,\n",
       "       1461.74751181, 1412.77929671,  862.44860944,  989.6535169 ,\n",
       "       1482.27649809, 1776.02746592,  488.82084594,  567.5497157 ,\n",
       "        685.55961315, 1166.23666586, 1207.12639134,  756.01926582,\n",
       "       1094.48712228,  810.16285505,  778.77235364, 1615.06208451,\n",
       "        986.4992811 , 1667.39700041,  719.6512583 ,  848.87676428,\n",
       "        788.8770129 , 1041.24045123, 1235.07929396, 1120.38026437,\n",
       "       1120.14153278, 1254.88192302, 1124.41822885,  984.8582735 ,\n",
       "       1318.44828034,  905.53978373, 1283.25892303,  762.10617491,\n",
       "       1058.2619243 ,  366.23807687,  637.05889265,  974.18498182,\n",
       "       1463.75471697, 1185.82619424,  903.59453052,  965.40215825,\n",
       "        638.13695036,  714.39469806, 1041.93622363,  865.67323677,\n",
       "       1490.07848484, 1028.18654673, 1395.25250474,  713.37962506,\n",
       "        605.56073442,  728.54472801, 1448.31598247,  612.32317281,\n",
       "        775.91722457,  400.7703666 ,  900.79259713, 1304.84197723,\n",
       "        860.03447123, 2070.03643434, 1009.52978436, 1020.07215023,\n",
       "       1520.18042318, 1348.01824084, 1163.11673687,  874.45052841,\n",
       "        522.03482088, 1584.27002333,  760.22656065, 1082.85988661,\n",
       "       1296.60523262,  595.5343919 ,  863.6975209 , 1084.01517467,\n",
       "        696.36629348, 1111.315046  ,  816.52501896, 1223.03383166,\n",
       "       1342.67102385, 1097.92276422, 1177.8629072 , 1080.82388602,\n",
       "        764.29289276,  902.50132929, 1000.92079838, 1453.72455893,\n",
       "       1335.93160917, 1492.66176198, 1140.22380356, 1566.3916232 ,\n",
       "        974.78992629, 1375.02017214, 1377.43276293, 1390.92420405,\n",
       "        901.89136394, 1107.07252134,  217.88492935, 1127.82580936,\n",
       "        821.57184914, 1970.64834748,  935.72425105, 1190.77223882,\n",
       "       1033.49529109, 1082.61280533,  551.72999425,  720.87858002,\n",
       "        896.0313766 , 1444.80829609, 1043.10395901,  628.14731656,\n",
       "       1757.28946852, 1462.36197423,  974.68221122,  943.94374578,\n",
       "       1447.59121088,  809.44531998, 1132.66011549,  840.86653131,\n",
       "       1616.40580629, 1619.31677301, 1290.85318317, 1643.25998686,\n",
       "       1545.59806557, 1272.68802059,  711.5006767 ,  912.99867018,\n",
       "       1284.94577829,  876.48130533, 1180.50846357,  789.63767584,\n",
       "        639.36933654,  823.19331398, 1640.30332284,  778.56051665,\n",
       "       1503.57878357,  590.92572407,  751.19821557,  589.81638117,\n",
       "       1053.02822339,  748.21742411, 1200.53299894, 1570.31772148,\n",
       "        984.91801178,  987.66379708,  325.70960752, 1186.23227063,\n",
       "       1201.72503195,  983.62057939,  783.34509969, 1142.19830309,\n",
       "        705.59492894, 1126.25051554, 1170.92723955, 1282.88631212,\n",
       "        884.66752615, 1088.27706883, 1546.7606405 , 1211.9492781 ,\n",
       "       1048.74950783, 2286.92630324,  966.02809405, 1610.37587006,\n",
       "       1037.38061302,  405.19392522, 1323.0172683 , 1380.72988566,\n",
       "        441.45097042,  881.80881912,  539.19663888,  814.88220845,\n",
       "       1814.21560987, 1011.03975287, 1120.40391134, 1197.45914116,\n",
       "       1171.88153308, 1223.45750909, 1284.84758167, 1404.1767931 ,\n",
       "        784.85839308,  984.87471373, 1466.6161688 , 1856.4326757 ,\n",
       "        710.71330155,  927.47605578, 1084.86545284, 1849.68085131,\n",
       "       1108.90347791, 1223.03764294,  358.86615353,  984.60774131,\n",
       "       1287.18028321,  951.35590037,  575.75563694, 1193.80378493,\n",
       "        864.05609403,  858.03125771,  326.45384486, 1032.66090937,\n",
       "        735.52338396,  688.26737667,  278.7586429 , 1273.20482511,\n",
       "       1151.09261629,  439.06227245,  251.84970827, 1300.70474892,\n",
       "       1372.23401933, 1269.64497582, 1298.21063645, 1122.45587088,\n",
       "        666.24950525,  274.25270619, 1083.21550629,  724.8782183 ,\n",
       "        873.63212333, 1123.52653001, 1082.59830672,  813.77152026,\n",
       "        565.66151749, 1288.9551147 ,  933.15476877,  716.28022808,\n",
       "       1270.13854475,  807.9247852 , 1481.06760858, 1096.22586896,\n",
       "        926.55703431,  834.40063122, 1205.43512202,  850.46622218,\n",
       "        502.40510949, 1112.51676028, 1208.76632848,  487.43989037,\n",
       "       1072.76356109,  974.4135007 , 1161.32625088, 1618.01839682,\n",
       "       1200.94404122, 1396.23567324,  678.54883865, 1340.71952329,\n",
       "        426.38751311,  930.12552417,  662.62127998, 1340.44283686,\n",
       "        786.64054695, 1026.56544511, 1186.44061274,  724.05267568,\n",
       "       1356.06964967,  681.76760467, 1271.99442792, 1291.04094625,\n",
       "        827.89248642, 1146.87996293,  912.62509643, 1209.11915007,\n",
       "       1266.41669492, 1458.98183798,  497.35442568,  955.79185091,\n",
       "        863.34056723, -265.76382555, 1288.14538499, 1070.26437502,\n",
       "       1290.38982246,  857.87833028,  952.75726524,  598.0930876 ,\n",
       "       1437.02595387,  604.97569393, 1001.694257  , 1158.88459807,\n",
       "       1491.02987538,  826.31547538, 1493.25719658,  970.09663668,\n",
       "       1068.4945467 ,  796.77203358,  611.22546754])"
      ]
     },
     "execution_count": 58,
     "metadata": {},
     "output_type": "execute_result"
    }
   ],
   "source": [
    "p_5"
   ]
  },
  {
   "cell_type": "code",
   "execution_count": 59,
   "metadata": {},
   "outputs": [],
   "source": [
    "ter5 = []\n",
    "for i in range(1,len(y_test_raw)):\n",
    "    if n_5[i]<=y_test_raw[i] and p_5[i] >= y_test_raw[i]:\n",
    "        ter5.append(True)\n",
    "    else:\n",
    "        ter5.append(False)"
   ]
  },
  {
   "cell_type": "code",
   "execution_count": 65,
   "metadata": {},
   "outputs": [],
   "source": [
    "ter20 = []\n",
    "for i in range(1,len(y_test_raw)):\n",
    "    if n_20[i]<=y_test_raw[i] and p_20[i] >= y_test_raw[i]:\n",
    "        ter20.append(True)\n",
    "    else:\n",
    "        ter20.append(False)"
   ]
  },
  {
   "cell_type": "code",
   "execution_count": 66,
   "metadata": {},
   "outputs": [
    {
     "name": "stdout",
     "output_type": "stream",
     "text": [
      "Test error rate at 5% interval: 0.990909090909091\n",
      "Test error rate at 20% interval: 0.990909090909091\n"
     ]
    }
   ],
   "source": [
    "print (\"Test error rate at 5% interval:\", 1 - np.mean(ter5))\n",
    "print (\"Test error rate at 20% interval:\", 1 - np.mean(ter20))"
   ]
  },
  {
   "cell_type": "code",
   "execution_count": null,
   "metadata": {},
   "outputs": [],
   "source": []
  },
  {
   "cell_type": "code",
   "execution_count": null,
   "metadata": {},
   "outputs": [],
   "source": []
  },
  {
   "cell_type": "code",
   "execution_count": null,
   "metadata": {},
   "outputs": [],
   "source": []
  }
 ],
 "metadata": {
  "kernelspec": {
   "display_name": "Python 3",
   "language": "python",
   "name": "python3"
  },
  "language_info": {
   "codemirror_mode": {
    "name": "ipython",
    "version": 3
   },
   "file_extension": ".py",
   "mimetype": "text/x-python",
   "name": "python",
   "nbconvert_exporter": "python",
   "pygments_lexer": "ipython3",
   "version": "3.6.5"
  }
 },
 "nbformat": 4,
 "nbformat_minor": 2
}
